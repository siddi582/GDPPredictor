{
 "cells": [
  {
   "cell_type": "code",
   "execution_count": 1,
   "id": "507ae4d8",
   "metadata": {},
   "outputs": [],
   "source": [
    "# Import pandas and numpy\n",
    "import pandas as pd \n",
    "import numpy as np\n",
    "\n",
    "# Import for splitting data into train & test for the ML models\n",
    "from sklearn.model_selection import train_test_split\n",
    "\n",
    "# Import Machine Learning Linear regression models\n",
    "from sklearn.linear_model import LinearRegression\n",
    "from sklearn.ensemble import RandomForestRegressor\n",
    "from sklearn.svm import SVR\n",
    "\n",
    "# Import standard scaler for scaling the data\n",
    "from sklearn.preprocessing import StandardScaler\n",
    "\n",
    "# Import metrics to calculate accuracy of models\n",
    "from sklearn.metrics import mean_squared_error, r2_score"
   ]
  },
  {
   "cell_type": "code",
   "execution_count": 2,
   "id": "bb039596",
   "metadata": {},
   "outputs": [
    {
     "data": {
      "text/html": [
       "<div>\n",
       "<style scoped>\n",
       "    .dataframe tbody tr th:only-of-type {\n",
       "        vertical-align: middle;\n",
       "    }\n",
       "\n",
       "    .dataframe tbody tr th {\n",
       "        vertical-align: top;\n",
       "    }\n",
       "\n",
       "    .dataframe thead th {\n",
       "        text-align: right;\n",
       "    }\n",
       "</style>\n",
       "<table border=\"1\" class=\"dataframe\">\n",
       "  <thead>\n",
       "    <tr style=\"text-align: right;\">\n",
       "      <th></th>\n",
       "      <th>country_name</th>\n",
       "      <th>Year</th>\n",
       "      <th>urbanization</th>\n",
       "      <th>gdp_per_cap</th>\n",
       "      <th>inflation</th>\n",
       "      <th>gdp_current</th>\n",
       "      <th>unemployment</th>\n",
       "      <th>literacy_adult</th>\n",
       "      <th>health_exp</th>\n",
       "      <th>literacy_youth</th>\n",
       "      <th>life_exp</th>\n",
       "      <th>re_consumption</th>\n",
       "      <th>ff_consumption</th>\n",
       "      <th>energy_use</th>\n",
       "    </tr>\n",
       "  </thead>\n",
       "  <tbody>\n",
       "    <tr>\n",
       "      <th>0</th>\n",
       "      <td>Canada</td>\n",
       "      <td>1971</td>\n",
       "      <td>76.090</td>\n",
       "      <td>4520.162878</td>\n",
       "      <td>2.704918</td>\n",
       "      <td>9.927196e+10</td>\n",
       "      <td>6.400000e+00</td>\n",
       "      <td>3.042833e+09</td>\n",
       "      <td>3.042833e+09</td>\n",
       "      <td>3.042833e+09</td>\n",
       "      <td>73.029268</td>\n",
       "      <td>3.042833e+09</td>\n",
       "      <td>8.415415e+01</td>\n",
       "      <td>6436.226256</td>\n",
       "    </tr>\n",
       "    <tr>\n",
       "      <th>1</th>\n",
       "      <td>Algeria</td>\n",
       "      <td>1971</td>\n",
       "      <td>39.665</td>\n",
       "      <td>359.824582</td>\n",
       "      <td>2.626642</td>\n",
       "      <td>5.077222e+09</td>\n",
       "      <td>3.042833e+09</td>\n",
       "      <td>3.042833e+09</td>\n",
       "      <td>3.042833e+09</td>\n",
       "      <td>3.042833e+09</td>\n",
       "      <td>43.670000</td>\n",
       "      <td>3.042833e+09</td>\n",
       "      <td>9.899982e+01</td>\n",
       "      <td>245.527602</td>\n",
       "    </tr>\n",
       "    <tr>\n",
       "      <th>2</th>\n",
       "      <td>Australia</td>\n",
       "      <td>1971</td>\n",
       "      <td>84.160</td>\n",
       "      <td>3494.973310</td>\n",
       "      <td>6.138107</td>\n",
       "      <td>4.521447e+10</td>\n",
       "      <td>3.042833e+09</td>\n",
       "      <td>3.042833e+09</td>\n",
       "      <td>3.042833e+09</td>\n",
       "      <td>3.042833e+09</td>\n",
       "      <td>71.068293</td>\n",
       "      <td>3.042833e+09</td>\n",
       "      <td>9.117778e+01</td>\n",
       "      <td>3989.629744</td>\n",
       "    </tr>\n",
       "    <tr>\n",
       "      <th>3</th>\n",
       "      <td>Austria</td>\n",
       "      <td>1971</td>\n",
       "      <td>65.301</td>\n",
       "      <td>2380.978458</td>\n",
       "      <td>4.704258</td>\n",
       "      <td>1.785849e+10</td>\n",
       "      <td>1.500000e+00</td>\n",
       "      <td>3.042833e+09</td>\n",
       "      <td>3.042833e+09</td>\n",
       "      <td>3.042833e+09</td>\n",
       "      <td>70.114634</td>\n",
       "      <td>3.042833e+09</td>\n",
       "      <td>9.019969e+01</td>\n",
       "      <td>2508.520919</td>\n",
       "    </tr>\n",
       "    <tr>\n",
       "      <th>4</th>\n",
       "      <td>Belgium</td>\n",
       "      <td>1971</td>\n",
       "      <td>93.976</td>\n",
       "      <td>3082.927989</td>\n",
       "      <td>4.343629</td>\n",
       "      <td>2.982166e+10</td>\n",
       "      <td>2.100000e+00</td>\n",
       "      <td>3.042833e+09</td>\n",
       "      <td>3.042833e+09</td>\n",
       "      <td>3.042833e+09</td>\n",
       "      <td>71.060488</td>\n",
       "      <td>3.042833e+09</td>\n",
       "      <td>3.042833e+09</td>\n",
       "      <td>4099.955320</td>\n",
       "    </tr>\n",
       "  </tbody>\n",
       "</table>\n",
       "</div>"
      ],
      "text/plain": [
       "  country_name  Year  urbanization  gdp_per_cap  inflation   gdp_current  \\\n",
       "0       Canada  1971        76.090  4520.162878   2.704918  9.927196e+10   \n",
       "1      Algeria  1971        39.665   359.824582   2.626642  5.077222e+09   \n",
       "2    Australia  1971        84.160  3494.973310   6.138107  4.521447e+10   \n",
       "3      Austria  1971        65.301  2380.978458   4.704258  1.785849e+10   \n",
       "4      Belgium  1971        93.976  3082.927989   4.343629  2.982166e+10   \n",
       "\n",
       "   unemployment  literacy_adult    health_exp  literacy_youth   life_exp  \\\n",
       "0  6.400000e+00    3.042833e+09  3.042833e+09    3.042833e+09  73.029268   \n",
       "1  3.042833e+09    3.042833e+09  3.042833e+09    3.042833e+09  43.670000   \n",
       "2  3.042833e+09    3.042833e+09  3.042833e+09    3.042833e+09  71.068293   \n",
       "3  1.500000e+00    3.042833e+09  3.042833e+09    3.042833e+09  70.114634   \n",
       "4  2.100000e+00    3.042833e+09  3.042833e+09    3.042833e+09  71.060488   \n",
       "\n",
       "   re_consumption  ff_consumption   energy_use  \n",
       "0    3.042833e+09    8.415415e+01  6436.226256  \n",
       "1    3.042833e+09    9.899982e+01   245.527602  \n",
       "2    3.042833e+09    9.117778e+01  3989.629744  \n",
       "3    3.042833e+09    9.019969e+01  2508.520919  \n",
       "4    3.042833e+09    3.042833e+09  4099.955320  "
      ]
     },
     "execution_count": 2,
     "metadata": {},
     "output_type": "execute_result"
    }
   ],
   "source": [
    "# Read the cleaned country data CSV file\n",
    "df = pd.read_csv(\"merged_countries.csv\", encoding =\"unicode_escape\")\n",
    "df.head()"
   ]
  },
  {
   "cell_type": "code",
   "execution_count": 3,
   "id": "6bf77b9f",
   "metadata": {},
   "outputs": [
    {
     "data": {
      "text/plain": [
       "country_name       object\n",
       "Year                int64\n",
       "urbanization      float64\n",
       "gdp_per_cap       float64\n",
       "inflation         float64\n",
       "gdp_current       float64\n",
       "unemployment      float64\n",
       "literacy_adult    float64\n",
       "health_exp        float64\n",
       "literacy_youth    float64\n",
       "life_exp          float64\n",
       "re_consumption    float64\n",
       "ff_consumption    float64\n",
       "energy_use        float64\n",
       "dtype: object"
      ]
     },
     "execution_count": 3,
     "metadata": {},
     "output_type": "execute_result"
    }
   ],
   "source": [
    "# Checking datatypes of each columns\n",
    "df.dtypes"
   ]
  },
  {
   "cell_type": "code",
   "execution_count": 4,
   "id": "8883f90b",
   "metadata": {},
   "outputs": [
    {
     "data": {
      "text/html": [
       "<div>\n",
       "<style scoped>\n",
       "    .dataframe tbody tr th:only-of-type {\n",
       "        vertical-align: middle;\n",
       "    }\n",
       "\n",
       "    .dataframe tbody tr th {\n",
       "        vertical-align: top;\n",
       "    }\n",
       "\n",
       "    .dataframe thead th {\n",
       "        text-align: right;\n",
       "    }\n",
       "</style>\n",
       "<table border=\"1\" class=\"dataframe\">\n",
       "  <thead>\n",
       "    <tr style=\"text-align: right;\">\n",
       "      <th></th>\n",
       "      <th>country_name</th>\n",
       "      <th>Year</th>\n",
       "      <th>urbanization</th>\n",
       "      <th>gdp_per_cap</th>\n",
       "      <th>inflation</th>\n",
       "      <th>gdp_current</th>\n",
       "      <th>unemployment</th>\n",
       "      <th>literacy_adult</th>\n",
       "      <th>health_exp</th>\n",
       "      <th>literacy_youth</th>\n",
       "      <th>life_exp</th>\n",
       "      <th>re_consumption</th>\n",
       "      <th>ff_consumption</th>\n",
       "      <th>energy_use</th>\n",
       "    </tr>\n",
       "  </thead>\n",
       "  <tbody>\n",
       "    <tr>\n",
       "      <th>0</th>\n",
       "      <td>Canada</td>\n",
       "      <td>1971</td>\n",
       "      <td>76.090</td>\n",
       "      <td>4520.162878</td>\n",
       "      <td>2.704918</td>\n",
       "      <td>9.927196e+10</td>\n",
       "      <td>6.400000e+00</td>\n",
       "      <td>3.042833e+09</td>\n",
       "      <td>3.042833e+09</td>\n",
       "      <td>3.042833e+09</td>\n",
       "      <td>73.029268</td>\n",
       "      <td>3.042833e+09</td>\n",
       "      <td>8.415415e+01</td>\n",
       "      <td>6436.226256</td>\n",
       "    </tr>\n",
       "    <tr>\n",
       "      <th>1</th>\n",
       "      <td>Algeria</td>\n",
       "      <td>1971</td>\n",
       "      <td>39.665</td>\n",
       "      <td>359.824582</td>\n",
       "      <td>2.626642</td>\n",
       "      <td>5.077222e+09</td>\n",
       "      <td>3.042833e+09</td>\n",
       "      <td>3.042833e+09</td>\n",
       "      <td>3.042833e+09</td>\n",
       "      <td>3.042833e+09</td>\n",
       "      <td>43.670000</td>\n",
       "      <td>3.042833e+09</td>\n",
       "      <td>9.899982e+01</td>\n",
       "      <td>245.527602</td>\n",
       "    </tr>\n",
       "    <tr>\n",
       "      <th>2</th>\n",
       "      <td>Australia</td>\n",
       "      <td>1971</td>\n",
       "      <td>84.160</td>\n",
       "      <td>3494.973310</td>\n",
       "      <td>6.138107</td>\n",
       "      <td>4.521447e+10</td>\n",
       "      <td>3.042833e+09</td>\n",
       "      <td>3.042833e+09</td>\n",
       "      <td>3.042833e+09</td>\n",
       "      <td>3.042833e+09</td>\n",
       "      <td>71.068293</td>\n",
       "      <td>3.042833e+09</td>\n",
       "      <td>9.117778e+01</td>\n",
       "      <td>3989.629744</td>\n",
       "    </tr>\n",
       "    <tr>\n",
       "      <th>3</th>\n",
       "      <td>Austria</td>\n",
       "      <td>1971</td>\n",
       "      <td>65.301</td>\n",
       "      <td>2380.978458</td>\n",
       "      <td>4.704258</td>\n",
       "      <td>1.785849e+10</td>\n",
       "      <td>1.500000e+00</td>\n",
       "      <td>3.042833e+09</td>\n",
       "      <td>3.042833e+09</td>\n",
       "      <td>3.042833e+09</td>\n",
       "      <td>70.114634</td>\n",
       "      <td>3.042833e+09</td>\n",
       "      <td>9.019969e+01</td>\n",
       "      <td>2508.520919</td>\n",
       "    </tr>\n",
       "    <tr>\n",
       "      <th>4</th>\n",
       "      <td>Belgium</td>\n",
       "      <td>1971</td>\n",
       "      <td>93.976</td>\n",
       "      <td>3082.927989</td>\n",
       "      <td>4.343629</td>\n",
       "      <td>2.982166e+10</td>\n",
       "      <td>2.100000e+00</td>\n",
       "      <td>3.042833e+09</td>\n",
       "      <td>3.042833e+09</td>\n",
       "      <td>3.042833e+09</td>\n",
       "      <td>71.060488</td>\n",
       "      <td>3.042833e+09</td>\n",
       "      <td>3.042833e+09</td>\n",
       "      <td>4099.955320</td>\n",
       "    </tr>\n",
       "  </tbody>\n",
       "</table>\n",
       "</div>"
      ],
      "text/plain": [
       "  country_name  Year  urbanization  gdp_per_cap  inflation   gdp_current  \\\n",
       "0       Canada  1971        76.090  4520.162878   2.704918  9.927196e+10   \n",
       "1      Algeria  1971        39.665   359.824582   2.626642  5.077222e+09   \n",
       "2    Australia  1971        84.160  3494.973310   6.138107  4.521447e+10   \n",
       "3      Austria  1971        65.301  2380.978458   4.704258  1.785849e+10   \n",
       "4      Belgium  1971        93.976  3082.927989   4.343629  2.982166e+10   \n",
       "\n",
       "   unemployment  literacy_adult    health_exp  literacy_youth   life_exp  \\\n",
       "0  6.400000e+00    3.042833e+09  3.042833e+09    3.042833e+09  73.029268   \n",
       "1  3.042833e+09    3.042833e+09  3.042833e+09    3.042833e+09  43.670000   \n",
       "2  3.042833e+09    3.042833e+09  3.042833e+09    3.042833e+09  71.068293   \n",
       "3  1.500000e+00    3.042833e+09  3.042833e+09    3.042833e+09  70.114634   \n",
       "4  2.100000e+00    3.042833e+09  3.042833e+09    3.042833e+09  71.060488   \n",
       "\n",
       "   re_consumption  ff_consumption   energy_use  \n",
       "0    3.042833e+09    8.415415e+01  6436.226256  \n",
       "1    3.042833e+09    9.899982e+01   245.527602  \n",
       "2    3.042833e+09    9.117778e+01  3989.629744  \n",
       "3    3.042833e+09    9.019969e+01  2508.520919  \n",
       "4    3.042833e+09    3.042833e+09  4099.955320  "
      ]
     },
     "execution_count": 4,
     "metadata": {},
     "output_type": "execute_result"
    }
   ],
   "source": [
    "world_df = df.copy()\n",
    "world_df.head()"
   ]
  },
  {
   "cell_type": "markdown",
   "id": "bbcaa3ae",
   "metadata": {},
   "source": [
    "### Linear Regression model"
   ]
  },
  {
   "cell_type": "code",
   "execution_count": 5,
   "id": "6164dcef",
   "metadata": {},
   "outputs": [],
   "source": [
    "# Setting features dataframe and target vector\n",
    "X = world_df.drop([\"gdp_current\", \"country_name\"], axis=1)\n",
    "y = world_df[\"gdp_current\"]"
   ]
  },
  {
   "cell_type": "code",
   "execution_count": 6,
   "id": "ef63cd30",
   "metadata": {},
   "outputs": [],
   "source": [
    "# Split the data into a training and test set\n",
    "X_train, X_test, y_train, y_test = train_test_split(X, y, test_size=0.2)"
   ]
  },
  {
   "cell_type": "code",
   "execution_count": 7,
   "id": "029fb8ca",
   "metadata": {},
   "outputs": [
    {
     "data": {
      "text/plain": [
       "LinearRegression()"
      ]
     },
     "execution_count": 7,
     "metadata": {},
     "output_type": "execute_result"
    }
   ],
   "source": [
    "# Create the linear regression model\n",
    "lr_model = LinearRegression()\n",
    "\n",
    "# Fit the model \n",
    "lr_model.fit(X_train, y_train)"
   ]
  },
  {
   "cell_type": "code",
   "execution_count": 8,
   "id": "b48f91ba",
   "metadata": {},
   "outputs": [
    {
     "name": "stdout",
     "output_type": "stream",
     "text": [
      "Test accuracy: 22.72%\n",
      "R2 Score: 22.72%\n"
     ]
    }
   ],
   "source": [
    "# Make predictions on the test data set\n",
    "y_pred = lr_model.predict(X_test)\n",
    "\n",
    "# Calculate the accuracy of the model\n",
    "score = lr_model.score(X_test, y_test)\n",
    "print(f\"Test accuracy: {np.round(score * 100, 2)}%\")\n",
    "\n",
    "# Calculate the r2_score\n",
    "r2_score_ = r2_score(y_test,y_pred)\n",
    "print(f\"R2 Score: {np.round(r2_score_ * 100, 2)}%\")"
   ]
  },
  {
   "cell_type": "markdown",
   "id": "c8d0e2f7",
   "metadata": {},
   "source": [
    "### Linear Regression model + scaling on our data"
   ]
  },
  {
   "cell_type": "code",
   "execution_count": 9,
   "id": "a63d1d7c",
   "metadata": {},
   "outputs": [],
   "source": [
    "# Setting features dataframe and target vector\n",
    "X = world_df.drop([\"gdp_current\", \"country_name\"], axis=1)\n",
    "y = world_df[\"gdp_current\"]"
   ]
  },
  {
   "cell_type": "code",
   "execution_count": 10,
   "id": "b32b39a3",
   "metadata": {},
   "outputs": [],
   "source": [
    "# Split the data into a training and test set\n",
    "X_train, X_test, y_train, y_test = train_test_split(X, y, test_size=0.2)"
   ]
  },
  {
   "cell_type": "code",
   "execution_count": 11,
   "id": "2f5adb71",
   "metadata": {},
   "outputs": [],
   "source": [
    "# Initialize the StandardScaler\n",
    "scaler = StandardScaler()"
   ]
  },
  {
   "cell_type": "code",
   "execution_count": 12,
   "id": "51b25bce",
   "metadata": {},
   "outputs": [],
   "source": [
    "# Fit and transform the X_train data\n",
    "X_train_scaled = scaler.fit_transform(X_train)\n",
    "\n",
    "# Transform the X_test data using scaler object\n",
    "X_test_scaled = scaler.transform(X_test)"
   ]
  },
  {
   "cell_type": "code",
   "execution_count": 13,
   "id": "cc024d66",
   "metadata": {},
   "outputs": [
    {
     "data": {
      "text/plain": [
       "LinearRegression()"
      ]
     },
     "execution_count": 13,
     "metadata": {},
     "output_type": "execute_result"
    }
   ],
   "source": [
    "# Create the linear regression model\n",
    "lr_model_new = LinearRegression()\n",
    "\n",
    "# Fit the model on scaled data\n",
    "lr_model_new.fit(X_train_scaled, y_train)"
   ]
  },
  {
   "cell_type": "code",
   "execution_count": 14,
   "id": "6f9ba1f8",
   "metadata": {},
   "outputs": [
    {
     "name": "stdout",
     "output_type": "stream",
     "text": [
      "Test accuracy: 25.01%\n",
      "R2 Score: 25.01%\n"
     ]
    }
   ],
   "source": [
    "# Make predictions on the test data set\n",
    "y_pred = lr_model_new.predict(X_test_scaled)\n",
    "\n",
    "# Calculate the accuracy of the model\n",
    "score = lr_model_new.score(X_test_scaled, y_test)\n",
    "print(f\"Test accuracy: {np.round(score * 100, 2)}%\")\n",
    "\n",
    "# Calculate the r2_score\n",
    "r2_score_ = r2_score(y_test,y_pred)\n",
    "print(f\"R2 Score: {np.round(r2_score_ * 100, 2)}%\")"
   ]
  },
  {
   "cell_type": "markdown",
   "id": "b5b86037",
   "metadata": {},
   "source": [
    "### Random Forest Regressor model"
   ]
  },
  {
   "cell_type": "code",
   "execution_count": 15,
   "id": "934ca717",
   "metadata": {},
   "outputs": [],
   "source": [
    "# Setting features dataframe and target vector\n",
    "X = world_df.drop([\"gdp_current\", \"country_name\", \"gdp_per_cap\"], axis=1)\n",
    "y = world_df[\"gdp_current\"]\n",
    "\n",
    "# Split the data into a training and test set\n",
    "X_train, X_test, y_train, y_test = train_test_split(X, y, test_size=0.2)"
   ]
  },
  {
   "cell_type": "code",
   "execution_count": 16,
   "id": "bd314842",
   "metadata": {},
   "outputs": [
    {
     "data": {
      "text/plain": [
       "RandomForestRegressor(n_estimators=1000, random_state=42)"
      ]
     },
     "execution_count": 16,
     "metadata": {},
     "output_type": "execute_result"
    }
   ],
   "source": [
    "# Create the random forest regressor model\n",
    "rfr_model = RandomForestRegressor(n_estimators=1000, random_state=42)\n",
    "\n",
    "# Fit the model\n",
    "rfr_model.fit(X_train, y_train)"
   ]
  },
  {
   "cell_type": "code",
   "execution_count": 17,
   "id": "a6f54ae2",
   "metadata": {},
   "outputs": [
    {
     "name": "stdout",
     "output_type": "stream",
     "text": [
      "Test accuracy: 84.36%\n",
      "R2 Score: 84.36%\n"
     ]
    }
   ],
   "source": [
    "# Make predictions on the test data set\n",
    "y_pred = rfr_model.predict(X_test)\n",
    "\n",
    "# Calculate the accuracy of the RandomForestRegressor model\n",
    "score = rfr_model.score(X_test, y_test)\n",
    "print(f\"Test accuracy: {np.round(score * 100, 2)}%\")\n",
    "\n",
    "# Calculate the r2_score\n",
    "r2_score_ = r2_score(y_test,y_pred)\n",
    "print(f\"R2 Score: {np.round(r2_score_ * 100, 2)}%\")"
   ]
  },
  {
   "cell_type": "markdown",
   "id": "8e4e52ea",
   "metadata": {},
   "source": [
    "### Support Vector Regressor model"
   ]
  },
  {
   "cell_type": "code",
   "execution_count": 18,
   "id": "268f658f",
   "metadata": {},
   "outputs": [],
   "source": [
    "# Setting features dataframe and target vector\n",
    "X = world_df.drop([\"gdp_current\", \"country_name\", \"gdp_per_cap\"], axis=1)\n",
    "y = world_df[\"gdp_current\"]\n",
    "\n",
    "# Split the data into a training and test set\n",
    "X_train, X_test, y_train, y_test = train_test_split(X, y, test_size=0.2)"
   ]
  },
  {
   "cell_type": "code",
   "execution_count": 19,
   "id": "97425fb9",
   "metadata": {},
   "outputs": [],
   "source": [
    "# Initialize the StandardScaler\n",
    "scaler = StandardScaler()\n",
    "\n",
    "# Fit and transform the X_train data\n",
    "X_train_scaled = scaler.fit_transform(X_train)\n",
    "\n",
    "# Transform the X_test data using scaler object\n",
    "X_test_scaled = scaler.transform(X_test)"
   ]
  },
  {
   "cell_type": "code",
   "execution_count": 20,
   "id": "a572c157",
   "metadata": {},
   "outputs": [
    {
     "data": {
      "text/plain": [
       "SVR(kernel='linear')"
      ]
     },
     "execution_count": 20,
     "metadata": {},
     "output_type": "execute_result"
    }
   ],
   "source": [
    "# Create the SVR model\n",
    "SVR_model = SVR(kernel='linear')\n",
    "\n",
    "# Fir the model on scaled data\n",
    "SVR_model.fit(X_train_scaled, y_train)"
   ]
  },
  {
   "cell_type": "code",
   "execution_count": 21,
   "id": "70a6546a",
   "metadata": {},
   "outputs": [
    {
     "name": "stdout",
     "output_type": "stream",
     "text": [
      "Test accuracy: -26.84%\n",
      "R2 Score: -26.84%\n"
     ]
    }
   ],
   "source": [
    "# Make predictions\n",
    "y_pred = SVR_model.predict(X_test_scaled)\n",
    "\n",
    "# Calculate the accuracy of this SVR model\n",
    "test_accuracy = SVR_model.score(X_test_scaled, y_test)\n",
    "print(f\"Test accuracy: {np.round(test_accuracy * 100, 2)}%\")\n",
    "\n",
    "# Calculate the r2_score\n",
    "r2_score_ = r2_score(y_test,y_pred)\n",
    "print(f\"R2 Score: {np.round(r2_score_ * 100, 2)}%\")"
   ]
  },
  {
   "cell_type": "markdown",
   "id": "f1625148",
   "metadata": {},
   "source": [
    "kernal = poly"
   ]
  },
  {
   "cell_type": "code",
   "execution_count": 22,
   "id": "8f04c069",
   "metadata": {},
   "outputs": [
    {
     "data": {
      "text/plain": [
       "SVR(kernel='poly')"
      ]
     },
     "execution_count": 22,
     "metadata": {},
     "output_type": "execute_result"
    }
   ],
   "source": [
    "# Create the SVR model\n",
    "SVR_model_poly = SVR(kernel='poly')\n",
    "\n",
    "# Fir the model on scaled data\n",
    "SVR_model_poly.fit(X_train_scaled, y_train)"
   ]
  },
  {
   "cell_type": "code",
   "execution_count": 23,
   "id": "2600091d",
   "metadata": {},
   "outputs": [
    {
     "name": "stdout",
     "output_type": "stream",
     "text": [
      "Test accuracy: -26.84%\n",
      "R2 Score: -26.84%\n"
     ]
    }
   ],
   "source": [
    "# Make predictions\n",
    "y_pred = SVR_model_poly.predict(X_test_scaled)\n",
    "\n",
    "# Calculate the accuracy of this SVR model\n",
    "test_accuracy = SVR_model_poly.score(X_test_scaled, y_test)\n",
    "print(f\"Test accuracy: {np.round(test_accuracy * 100, 2)}%\")\n",
    "\n",
    "# Calculate the r2_score\n",
    "r2_score_ = r2_score(y_test,y_pred)\n",
    "print(f\"R2 Score: {np.round(r2_score_ * 100, 2)}%\")"
   ]
  },
  {
   "cell_type": "markdown",
   "id": "e74257c9",
   "metadata": {},
   "source": [
    "kernal = rbf"
   ]
  },
  {
   "cell_type": "code",
   "execution_count": 24,
   "id": "28b23fc9",
   "metadata": {},
   "outputs": [
    {
     "data": {
      "text/plain": [
       "SVR()"
      ]
     },
     "execution_count": 24,
     "metadata": {},
     "output_type": "execute_result"
    }
   ],
   "source": [
    "# Create the SVR model\n",
    "SVR_model_poly = SVR(kernel='rbf')\n",
    "\n",
    "# Fir the model on scaled data\n",
    "SVR_model_poly.fit(X_train_scaled, y_train)"
   ]
  },
  {
   "cell_type": "code",
   "execution_count": 25,
   "id": "2e2a5ce9",
   "metadata": {},
   "outputs": [
    {
     "name": "stdout",
     "output_type": "stream",
     "text": [
      "Test accuracy: -26.84%\n",
      "R2 Score: -26.84%\n"
     ]
    }
   ],
   "source": [
    "# Make predictions\n",
    "y_pred = SVR_model_poly.predict(X_test_scaled)\n",
    "\n",
    "# Calculate the accuracy of this SVR model\n",
    "test_accuracy = SVR_model_poly.score(X_test_scaled, y_test)\n",
    "print(f\"Test accuracy: {np.round(test_accuracy * 100, 2)}%\")\n",
    "\n",
    "# Calculate the r2_score\n",
    "r2_score_ = r2_score(y_test,y_pred)\n",
    "print(f\"R2 Score: {np.round(r2_score_ * 100, 2)}%\")"
   ]
  }
 ],
 "metadata": {
  "kernelspec": {
   "display_name": "mlenv",
   "language": "python",
   "name": "mlenv"
  },
  "language_info": {
   "codemirror_mode": {
    "name": "ipython",
    "version": 3
   },
   "file_extension": ".py",
   "mimetype": "text/x-python",
   "name": "python",
   "nbconvert_exporter": "python",
   "pygments_lexer": "ipython3",
   "version": "3.7.15"
  }
 },
 "nbformat": 4,
 "nbformat_minor": 5
}
